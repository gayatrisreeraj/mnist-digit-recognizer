{
 "cells": [
  {
   "cell_type": "code",
   "execution_count": 36,
   "id": "15ef6a2a",
   "metadata": {
    "_cell_guid": "b1076dfc-b9ad-4769-8c92-a6c4dae69d19",
    "_uuid": "8f2839f25d086af736a60e9eeb907d3b93b6e0e5",
    "execution": {
     "iopub.execute_input": "2023-06-18T21:42:53.573160Z",
     "iopub.status.busy": "2023-06-18T21:42:53.571971Z",
     "iopub.status.idle": "2023-06-18T21:42:55.317738Z",
     "shell.execute_reply": "2023-06-18T21:42:55.316090Z"
    },
    "papermill": {
     "duration": 1.75785,
     "end_time": "2023-06-18T21:42:55.321180",
     "exception": false,
     "start_time": "2023-06-18T21:42:53.563330",
     "status": "completed"
    },
    "tags": []
   },
   "outputs": [],
   "source": [
    "import pandas as pd \n",
    "from sklearn.tree import DecisionTreeClassifier\n",
    "from sklearn.metrics import accuracy_score\n",
    "from sklearn.model_selection import train_test_split\n",
    "\n",
    "base_url = \"https://raw.githubusercontent.com/gayatrisreeraj/mnist-digit-recognizer/main/\"\n",
    "\n",
    "testing_csv = \"testing%20dataset.csv\"\n",
    "training_csv = \"training%20dataset.csv\"\n"
   ]
  },
  {
   "cell_type": "markdown",
   "id": "c0d2231c",
   "metadata": {
    "papermill": {
     "duration": 0.006263,
     "end_time": "2023-06-18T21:42:55.335118",
     "exception": false,
     "start_time": "2023-06-18T21:42:55.328855",
     "status": "completed"
    },
    "tags": []
   },
   "source": [
    "**TRAINING DATA**"
   ]
  },
  {
   "cell_type": "code",
   "execution_count": 37,
   "id": "21c6397f",
   "metadata": {
    "execution": {
     "iopub.execute_input": "2023-06-18T21:42:55.350041Z",
     "iopub.status.busy": "2023-06-18T21:42:55.348976Z",
     "iopub.status.idle": "2023-06-18T21:42:55.423674Z",
     "shell.execute_reply": "2023-06-18T21:42:55.422437Z"
    },
    "papermill": {
     "duration": 0.084681,
     "end_time": "2023-06-18T21:42:55.426106",
     "exception": false,
     "start_time": "2023-06-18T21:42:55.341425",
     "status": "completed"
    },
    "tags": []
   },
   "outputs": [
    {
     "data": {
      "text/html": [
       "<div>\n",
       "<style scoped>\n",
       "    .dataframe tbody tr th:only-of-type {\n",
       "        vertical-align: middle;\n",
       "    }\n",
       "\n",
       "    .dataframe tbody tr th {\n",
       "        vertical-align: top;\n",
       "    }\n",
       "\n",
       "    .dataframe thead th {\n",
       "        text-align: right;\n",
       "    }\n",
       "</style>\n",
       "<table border=\"1\" class=\"dataframe\">\n",
       "  <thead>\n",
       "    <tr style=\"text-align: right;\">\n",
       "      <th></th>\n",
       "      <th>ID</th>\n",
       "      <th>pixel_0_0</th>\n",
       "      <th>pixel_0_1</th>\n",
       "      <th>pixel_0_2</th>\n",
       "      <th>pixel_0_3</th>\n",
       "      <th>pixel_0_4</th>\n",
       "      <th>pixel_0_5</th>\n",
       "      <th>pixel_0_6</th>\n",
       "      <th>pixel_0_7</th>\n",
       "      <th>pixel_1_0</th>\n",
       "      <th>...</th>\n",
       "      <th>pixel_6_7</th>\n",
       "      <th>pixel_7_0</th>\n",
       "      <th>pixel_7_1</th>\n",
       "      <th>pixel_7_2</th>\n",
       "      <th>pixel_7_3</th>\n",
       "      <th>pixel_7_4</th>\n",
       "      <th>pixel_7_5</th>\n",
       "      <th>pixel_7_6</th>\n",
       "      <th>pixel_7_7</th>\n",
       "      <th>Category</th>\n",
       "    </tr>\n",
       "  </thead>\n",
       "  <tbody>\n",
       "    <tr>\n",
       "      <th>0</th>\n",
       "      <td>2</td>\n",
       "      <td>0</td>\n",
       "      <td>0</td>\n",
       "      <td>0</td>\n",
       "      <td>10</td>\n",
       "      <td>12</td>\n",
       "      <td>3</td>\n",
       "      <td>0</td>\n",
       "      <td>0</td>\n",
       "      <td>0</td>\n",
       "      <td>...</td>\n",
       "      <td>0</td>\n",
       "      <td>0</td>\n",
       "      <td>0</td>\n",
       "      <td>2</td>\n",
       "      <td>10</td>\n",
       "      <td>14</td>\n",
       "      <td>13</td>\n",
       "      <td>4</td>\n",
       "      <td>0</td>\n",
       "      <td>8</td>\n",
       "    </tr>\n",
       "    <tr>\n",
       "      <th>1</th>\n",
       "      <td>3</td>\n",
       "      <td>0</td>\n",
       "      <td>0</td>\n",
       "      <td>3</td>\n",
       "      <td>10</td>\n",
       "      <td>15</td>\n",
       "      <td>8</td>\n",
       "      <td>0</td>\n",
       "      <td>0</td>\n",
       "      <td>0</td>\n",
       "      <td>...</td>\n",
       "      <td>0</td>\n",
       "      <td>0</td>\n",
       "      <td>0</td>\n",
       "      <td>2</td>\n",
       "      <td>10</td>\n",
       "      <td>8</td>\n",
       "      <td>0</td>\n",
       "      <td>0</td>\n",
       "      <td>0</td>\n",
       "      <td>5</td>\n",
       "    </tr>\n",
       "    <tr>\n",
       "      <th>2</th>\n",
       "      <td>4</td>\n",
       "      <td>0</td>\n",
       "      <td>0</td>\n",
       "      <td>5</td>\n",
       "      <td>11</td>\n",
       "      <td>16</td>\n",
       "      <td>16</td>\n",
       "      <td>8</td>\n",
       "      <td>0</td>\n",
       "      <td>0</td>\n",
       "      <td>...</td>\n",
       "      <td>0</td>\n",
       "      <td>0</td>\n",
       "      <td>0</td>\n",
       "      <td>7</td>\n",
       "      <td>16</td>\n",
       "      <td>11</td>\n",
       "      <td>2</td>\n",
       "      <td>0</td>\n",
       "      <td>0</td>\n",
       "      <td>3</td>\n",
       "    </tr>\n",
       "    <tr>\n",
       "      <th>3</th>\n",
       "      <td>5</td>\n",
       "      <td>0</td>\n",
       "      <td>0</td>\n",
       "      <td>4</td>\n",
       "      <td>12</td>\n",
       "      <td>16</td>\n",
       "      <td>16</td>\n",
       "      <td>4</td>\n",
       "      <td>0</td>\n",
       "      <td>0</td>\n",
       "      <td>...</td>\n",
       "      <td>0</td>\n",
       "      <td>0</td>\n",
       "      <td>0</td>\n",
       "      <td>3</td>\n",
       "      <td>12</td>\n",
       "      <td>13</td>\n",
       "      <td>9</td>\n",
       "      <td>0</td>\n",
       "      <td>0</td>\n",
       "      <td>2</td>\n",
       "    </tr>\n",
       "    <tr>\n",
       "      <th>4</th>\n",
       "      <td>6</td>\n",
       "      <td>0</td>\n",
       "      <td>1</td>\n",
       "      <td>11</td>\n",
       "      <td>13</td>\n",
       "      <td>2</td>\n",
       "      <td>0</td>\n",
       "      <td>0</td>\n",
       "      <td>0</td>\n",
       "      <td>0</td>\n",
       "      <td>...</td>\n",
       "      <td>0</td>\n",
       "      <td>0</td>\n",
       "      <td>1</td>\n",
       "      <td>12</td>\n",
       "      <td>12</td>\n",
       "      <td>12</td>\n",
       "      <td>15</td>\n",
       "      <td>11</td>\n",
       "      <td>0</td>\n",
       "      <td>2</td>\n",
       "    </tr>\n",
       "  </tbody>\n",
       "</table>\n",
       "<p>5 rows × 66 columns</p>\n",
       "</div>"
      ],
      "text/plain": [
       "   ID  pixel_0_0  pixel_0_1  pixel_0_2  pixel_0_3  pixel_0_4  pixel_0_5  \\\n",
       "0   2          0          0          0         10         12          3   \n",
       "1   3          0          0          3         10         15          8   \n",
       "2   4          0          0          5         11         16         16   \n",
       "3   5          0          0          4         12         16         16   \n",
       "4   6          0          1         11         13          2          0   \n",
       "\n",
       "   pixel_0_6  pixel_0_7  pixel_1_0  ...  pixel_6_7  pixel_7_0  pixel_7_1  \\\n",
       "0          0          0          0  ...          0          0          0   \n",
       "1          0          0          0  ...          0          0          0   \n",
       "2          8          0          0  ...          0          0          0   \n",
       "3          4          0          0  ...          0          0          0   \n",
       "4          0          0          0  ...          0          0          1   \n",
       "\n",
       "   pixel_7_2  pixel_7_3  pixel_7_4  pixel_7_5  pixel_7_6  pixel_7_7  Category  \n",
       "0          2         10         14         13          4          0         8  \n",
       "1          2         10          8          0          0          0         5  \n",
       "2          7         16         11          2          0          0         3  \n",
       "3          3         12         13          9          0          0         2  \n",
       "4         12         12         12         15         11          0         2  \n",
       "\n",
       "[5 rows x 66 columns]"
      ]
     },
     "execution_count": 37,
     "metadata": {},
     "output_type": "execute_result"
    }
   ],
   "source": [
    "# Load the training data\n",
    "train_data = pd.read_csv(base_url + training_csv)\n",
    "\n",
    "# Assign column names to the training dataset\n",
    "train_columns = ['ID'] + [f'pixel_{i}_{j}' for i in range(8) for j in range(8)] + ['Category']\n",
    "train_data.columns = train_columns\n",
    "train_data.head()"
   ]
  },
  {
   "cell_type": "markdown",
   "id": "b8d18371",
   "metadata": {
    "papermill": {
     "duration": 0.006601,
     "end_time": "2023-06-18T21:42:55.439531",
     "exception": false,
     "start_time": "2023-06-18T21:42:55.432930",
     "status": "completed"
    },
    "tags": []
   },
   "source": [
    "**TESTING DATA**"
   ]
  },
  {
   "cell_type": "code",
   "execution_count": 38,
   "id": "577bf589",
   "metadata": {
    "execution": {
     "iopub.execute_input": "2023-06-18T21:42:55.455249Z",
     "iopub.status.busy": "2023-06-18T21:42:55.454588Z",
     "iopub.status.idle": "2023-06-18T21:42:55.491732Z",
     "shell.execute_reply": "2023-06-18T21:42:55.490598Z"
    },
    "papermill": {
     "duration": 0.047839,
     "end_time": "2023-06-18T21:42:55.494164",
     "exception": false,
     "start_time": "2023-06-18T21:42:55.446325",
     "status": "completed"
    },
    "tags": []
   },
   "outputs": [
    {
     "data": {
      "text/html": [
       "<div>\n",
       "<style scoped>\n",
       "    .dataframe tbody tr th:only-of-type {\n",
       "        vertical-align: middle;\n",
       "    }\n",
       "\n",
       "    .dataframe tbody tr th {\n",
       "        vertical-align: top;\n",
       "    }\n",
       "\n",
       "    .dataframe thead th {\n",
       "        text-align: right;\n",
       "    }\n",
       "</style>\n",
       "<table border=\"1\" class=\"dataframe\">\n",
       "  <thead>\n",
       "    <tr style=\"text-align: right;\">\n",
       "      <th></th>\n",
       "      <th>ID</th>\n",
       "      <th>pixel_0_0</th>\n",
       "      <th>pixel_0_1</th>\n",
       "      <th>pixel_0_2</th>\n",
       "      <th>pixel_0_3</th>\n",
       "      <th>pixel_0_4</th>\n",
       "      <th>pixel_0_5</th>\n",
       "      <th>pixel_0_6</th>\n",
       "      <th>pixel_0_7</th>\n",
       "      <th>pixel_1_0</th>\n",
       "      <th>...</th>\n",
       "      <th>pixel_6_6</th>\n",
       "      <th>pixel_6_7</th>\n",
       "      <th>pixel_7_0</th>\n",
       "      <th>pixel_7_1</th>\n",
       "      <th>pixel_7_2</th>\n",
       "      <th>pixel_7_3</th>\n",
       "      <th>pixel_7_4</th>\n",
       "      <th>pixel_7_5</th>\n",
       "      <th>pixel_7_6</th>\n",
       "      <th>pixel_7_7</th>\n",
       "    </tr>\n",
       "  </thead>\n",
       "  <tbody>\n",
       "    <tr>\n",
       "      <th>0</th>\n",
       "      <td>1431</td>\n",
       "      <td>0</td>\n",
       "      <td>0</td>\n",
       "      <td>0</td>\n",
       "      <td>2</td>\n",
       "      <td>14</td>\n",
       "      <td>5</td>\n",
       "      <td>0</td>\n",
       "      <td>0</td>\n",
       "      <td>0</td>\n",
       "      <td>...</td>\n",
       "      <td>0</td>\n",
       "      <td>0</td>\n",
       "      <td>0</td>\n",
       "      <td>0</td>\n",
       "      <td>0</td>\n",
       "      <td>3</td>\n",
       "      <td>15</td>\n",
       "      <td>6</td>\n",
       "      <td>0</td>\n",
       "      <td>0</td>\n",
       "    </tr>\n",
       "    <tr>\n",
       "      <th>1</th>\n",
       "      <td>1432</td>\n",
       "      <td>0</td>\n",
       "      <td>0</td>\n",
       "      <td>0</td>\n",
       "      <td>13</td>\n",
       "      <td>12</td>\n",
       "      <td>0</td>\n",
       "      <td>0</td>\n",
       "      <td>0</td>\n",
       "      <td>0</td>\n",
       "      <td>...</td>\n",
       "      <td>12</td>\n",
       "      <td>0</td>\n",
       "      <td>0</td>\n",
       "      <td>0</td>\n",
       "      <td>1</td>\n",
       "      <td>10</td>\n",
       "      <td>16</td>\n",
       "      <td>14</td>\n",
       "      <td>4</td>\n",
       "      <td>0</td>\n",
       "    </tr>\n",
       "    <tr>\n",
       "      <th>2</th>\n",
       "      <td>1433</td>\n",
       "      <td>0</td>\n",
       "      <td>0</td>\n",
       "      <td>7</td>\n",
       "      <td>16</td>\n",
       "      <td>16</td>\n",
       "      <td>16</td>\n",
       "      <td>6</td>\n",
       "      <td>0</td>\n",
       "      <td>0</td>\n",
       "      <td>...</td>\n",
       "      <td>0</td>\n",
       "      <td>0</td>\n",
       "      <td>0</td>\n",
       "      <td>0</td>\n",
       "      <td>7</td>\n",
       "      <td>15</td>\n",
       "      <td>1</td>\n",
       "      <td>0</td>\n",
       "      <td>0</td>\n",
       "      <td>0</td>\n",
       "    </tr>\n",
       "    <tr>\n",
       "      <th>3</th>\n",
       "      <td>1434</td>\n",
       "      <td>0</td>\n",
       "      <td>2</td>\n",
       "      <td>15</td>\n",
       "      <td>15</td>\n",
       "      <td>6</td>\n",
       "      <td>0</td>\n",
       "      <td>0</td>\n",
       "      <td>0</td>\n",
       "      <td>0</td>\n",
       "      <td>...</td>\n",
       "      <td>1</td>\n",
       "      <td>0</td>\n",
       "      <td>0</td>\n",
       "      <td>3</td>\n",
       "      <td>15</td>\n",
       "      <td>14</td>\n",
       "      <td>11</td>\n",
       "      <td>2</td>\n",
       "      <td>0</td>\n",
       "      <td>0</td>\n",
       "    </tr>\n",
       "    <tr>\n",
       "      <th>4</th>\n",
       "      <td>1435</td>\n",
       "      <td>0</td>\n",
       "      <td>0</td>\n",
       "      <td>0</td>\n",
       "      <td>10</td>\n",
       "      <td>9</td>\n",
       "      <td>0</td>\n",
       "      <td>0</td>\n",
       "      <td>0</td>\n",
       "      <td>0</td>\n",
       "      <td>...</td>\n",
       "      <td>0</td>\n",
       "      <td>0</td>\n",
       "      <td>0</td>\n",
       "      <td>0</td>\n",
       "      <td>0</td>\n",
       "      <td>13</td>\n",
       "      <td>10</td>\n",
       "      <td>0</td>\n",
       "      <td>0</td>\n",
       "      <td>0</td>\n",
       "    </tr>\n",
       "  </tbody>\n",
       "</table>\n",
       "<p>5 rows × 65 columns</p>\n",
       "</div>"
      ],
      "text/plain": [
       "     ID  pixel_0_0  pixel_0_1  pixel_0_2  pixel_0_3  pixel_0_4  pixel_0_5  \\\n",
       "0  1431          0          0          0          2         14          5   \n",
       "1  1432          0          0          0         13         12          0   \n",
       "2  1433          0          0          7         16         16         16   \n",
       "3  1434          0          2         15         15          6          0   \n",
       "4  1435          0          0          0         10          9          0   \n",
       "\n",
       "   pixel_0_6  pixel_0_7  pixel_1_0  ...  pixel_6_6  pixel_6_7  pixel_7_0  \\\n",
       "0          0          0          0  ...          0          0          0   \n",
       "1          0          0          0  ...         12          0          0   \n",
       "2          6          0          0  ...          0          0          0   \n",
       "3          0          0          0  ...          1          0          0   \n",
       "4          0          0          0  ...          0          0          0   \n",
       "\n",
       "   pixel_7_1  pixel_7_2  pixel_7_3  pixel_7_4  pixel_7_5  pixel_7_6  pixel_7_7  \n",
       "0          0          0          3         15          6          0          0  \n",
       "1          0          1         10         16         14          4          0  \n",
       "2          0          7         15          1          0          0          0  \n",
       "3          3         15         14         11          2          0          0  \n",
       "4          0          0         13         10          0          0          0  \n",
       "\n",
       "[5 rows x 65 columns]"
      ]
     },
     "execution_count": 38,
     "metadata": {},
     "output_type": "execute_result"
    }
   ],
   "source": [
    "# Load the testing data\n",
    "test_data = pd.read_csv(base_url + testing_csv)\n",
    "custom_row = custom_row = pd.DataFrame([[1431, 0, 0, 0, 2, 14, 5, 0, 0, 0, 0, 1, 11, 11, 0, 0, 0, 0, 0, 7,\n",
    "                            14, 1, 0, 0, 0, 0, 5, 16, 3, 4, 6, 2, 0, 0, 14, 16, 14, 16, 16,\n",
    "                            10, 0, 0, 9, 12, 7, 8, 16, 4, 0, 0, 0, 0, 0, 13, 12, 0, 0, 0, 0,\n",
    "                            0, 3, 15, 6, 0, 0]], columns=test_data.columns)\n",
    "test_data = pd.concat([custom_row, test_data], ignore_index=True)\n",
    "\n",
    "# Assign column names to the testing dataset\n",
    "test_columns = ['ID'] + [f'pixel_{i}_{j}' for i in range(8) for j in range(8)]\n",
    "test_data.columns = test_columns\n",
    "test_data.head()"
   ]
  },
  {
   "cell_type": "markdown",
   "id": "ad0cc8fc",
   "metadata": {
    "papermill": {
     "duration": 0.008543,
     "end_time": "2023-06-18T21:42:55.509958",
     "exception": false,
     "start_time": "2023-06-18T21:42:55.501415",
     "status": "completed"
    },
    "tags": []
   },
   "source": [
    "**PREPARE THE DATA**"
   ]
  },
  {
   "cell_type": "code",
   "execution_count": 39,
   "id": "12434ee2",
   "metadata": {
    "execution": {
     "iopub.execute_input": "2023-06-18T21:42:55.526044Z",
     "iopub.status.busy": "2023-06-18T21:42:55.525607Z",
     "iopub.status.idle": "2023-06-18T21:42:55.539687Z",
     "shell.execute_reply": "2023-06-18T21:42:55.538508Z"
    },
    "papermill": {
     "duration": 0.024949,
     "end_time": "2023-06-18T21:42:55.542154",
     "exception": false,
     "start_time": "2023-06-18T21:42:55.517205",
     "status": "completed"
    },
    "tags": []
   },
   "outputs": [],
   "source": [
    "# Prepare the data\n",
    "X_train = train_data.drop(['ID', 'Category'], axis=1)\n",
    "y_train = train_data['Category']\n",
    "X_test = test_data.drop(['ID'], axis=1)"
   ]
  },
  {
   "cell_type": "markdown",
   "id": "981b306e",
   "metadata": {
    "papermill": {
     "duration": 0.006998,
     "end_time": "2023-06-18T21:42:55.556360",
     "exception": false,
     "start_time": "2023-06-18T21:42:55.549362",
     "status": "completed"
    },
    "tags": []
   },
   "source": [
    "**SPLITTING THE DATA**"
   ]
  },
  {
   "cell_type": "code",
   "execution_count": 40,
   "id": "bce6073d",
   "metadata": {
    "execution": {
     "iopub.execute_input": "2023-06-18T21:42:55.572351Z",
     "iopub.status.busy": "2023-06-18T21:42:55.571912Z",
     "iopub.status.idle": "2023-06-18T21:42:55.579796Z",
     "shell.execute_reply": "2023-06-18T21:42:55.579044Z"
    },
    "papermill": {
     "duration": 0.018364,
     "end_time": "2023-06-18T21:42:55.581895",
     "exception": false,
     "start_time": "2023-06-18T21:42:55.563531",
     "status": "completed"
    },
    "tags": []
   },
   "outputs": [],
   "source": [
    "# Split the training data into training and validation sets\n",
    "X_train, X_val, y_train, y_val = train_test_split(X_train, y_train, test_size=0.2, random_state=42)"
   ]
  },
  {
   "cell_type": "markdown",
   "id": "ebb11660",
   "metadata": {
    "papermill": {
     "duration": 0.007008,
     "end_time": "2023-06-18T21:42:55.596099",
     "exception": false,
     "start_time": "2023-06-18T21:42:55.589091",
     "status": "completed"
    },
    "tags": []
   },
   "source": [
    "**MODEL FITTING**"
   ]
  },
  {
   "cell_type": "code",
   "execution_count": 41,
   "id": "5168e8d8",
   "metadata": {
    "execution": {
     "iopub.execute_input": "2023-06-18T21:42:55.611853Z",
     "iopub.status.busy": "2023-06-18T21:42:55.611455Z",
     "iopub.status.idle": "2023-06-18T21:42:55.690397Z",
     "shell.execute_reply": "2023-06-18T21:42:55.689290Z"
    },
    "papermill": {
     "duration": 0.08963,
     "end_time": "2023-06-18T21:42:55.692815",
     "exception": false,
     "start_time": "2023-06-18T21:42:55.603185",
     "status": "completed"
    },
    "tags": []
   },
   "outputs": [
    {
     "data": {
      "text/html": [
       "<style>#sk-container-id-3 {color: black;}#sk-container-id-3 pre{padding: 0;}#sk-container-id-3 div.sk-toggleable {background-color: white;}#sk-container-id-3 label.sk-toggleable__label {cursor: pointer;display: block;width: 100%;margin-bottom: 0;padding: 0.3em;box-sizing: border-box;text-align: center;}#sk-container-id-3 label.sk-toggleable__label-arrow:before {content: \"▸\";float: left;margin-right: 0.25em;color: #696969;}#sk-container-id-3 label.sk-toggleable__label-arrow:hover:before {color: black;}#sk-container-id-3 div.sk-estimator:hover label.sk-toggleable__label-arrow:before {color: black;}#sk-container-id-3 div.sk-toggleable__content {max-height: 0;max-width: 0;overflow: hidden;text-align: left;background-color: #f0f8ff;}#sk-container-id-3 div.sk-toggleable__content pre {margin: 0.2em;color: black;border-radius: 0.25em;background-color: #f0f8ff;}#sk-container-id-3 input.sk-toggleable__control:checked~div.sk-toggleable__content {max-height: 200px;max-width: 100%;overflow: auto;}#sk-container-id-3 input.sk-toggleable__control:checked~label.sk-toggleable__label-arrow:before {content: \"▾\";}#sk-container-id-3 div.sk-estimator input.sk-toggleable__control:checked~label.sk-toggleable__label {background-color: #d4ebff;}#sk-container-id-3 div.sk-label input.sk-toggleable__control:checked~label.sk-toggleable__label {background-color: #d4ebff;}#sk-container-id-3 input.sk-hidden--visually {border: 0;clip: rect(1px 1px 1px 1px);clip: rect(1px, 1px, 1px, 1px);height: 1px;margin: -1px;overflow: hidden;padding: 0;position: absolute;width: 1px;}#sk-container-id-3 div.sk-estimator {font-family: monospace;background-color: #f0f8ff;border: 1px dotted black;border-radius: 0.25em;box-sizing: border-box;margin-bottom: 0.5em;}#sk-container-id-3 div.sk-estimator:hover {background-color: #d4ebff;}#sk-container-id-3 div.sk-parallel-item::after {content: \"\";width: 100%;border-bottom: 1px solid gray;flex-grow: 1;}#sk-container-id-3 div.sk-label:hover label.sk-toggleable__label {background-color: #d4ebff;}#sk-container-id-3 div.sk-serial::before {content: \"\";position: absolute;border-left: 1px solid gray;box-sizing: border-box;top: 0;bottom: 0;left: 50%;z-index: 0;}#sk-container-id-3 div.sk-serial {display: flex;flex-direction: column;align-items: center;background-color: white;padding-right: 0.2em;padding-left: 0.2em;position: relative;}#sk-container-id-3 div.sk-item {position: relative;z-index: 1;}#sk-container-id-3 div.sk-parallel {display: flex;align-items: stretch;justify-content: center;background-color: white;position: relative;}#sk-container-id-3 div.sk-item::before, #sk-container-id-3 div.sk-parallel-item::before {content: \"\";position: absolute;border-left: 1px solid gray;box-sizing: border-box;top: 0;bottom: 0;left: 50%;z-index: -1;}#sk-container-id-3 div.sk-parallel-item {display: flex;flex-direction: column;z-index: 1;position: relative;background-color: white;}#sk-container-id-3 div.sk-parallel-item:first-child::after {align-self: flex-end;width: 50%;}#sk-container-id-3 div.sk-parallel-item:last-child::after {align-self: flex-start;width: 50%;}#sk-container-id-3 div.sk-parallel-item:only-child::after {width: 0;}#sk-container-id-3 div.sk-dashed-wrapped {border: 1px dashed gray;margin: 0 0.4em 0.5em 0.4em;box-sizing: border-box;padding-bottom: 0.4em;background-color: white;}#sk-container-id-3 div.sk-label label {font-family: monospace;font-weight: bold;display: inline-block;line-height: 1.2em;}#sk-container-id-3 div.sk-label-container {text-align: center;}#sk-container-id-3 div.sk-container {/* jupyter's `normalize.less` sets `[hidden] { display: none; }` but bootstrap.min.css set `[hidden] { display: none !important; }` so we also need the `!important` here to be able to override the default hidden behavior on the sphinx rendered scikit-learn.org. See: https://github.com/scikit-learn/scikit-learn/issues/21755 */display: inline-block !important;position: relative;}#sk-container-id-3 div.sk-text-repr-fallback {display: none;}</style><div id=\"sk-container-id-3\" class=\"sk-top-container\"><div class=\"sk-text-repr-fallback\"><pre>DecisionTreeClassifier(criterion=&#x27;entropy&#x27;, min_samples_split=10,\n",
       "                       random_state=42)</pre><b>In a Jupyter environment, please rerun this cell to show the HTML representation or trust the notebook. <br />On GitHub, the HTML representation is unable to render, please try loading this page with nbviewer.org.</b></div><div class=\"sk-container\" hidden><div class=\"sk-item\"><div class=\"sk-estimator sk-toggleable\"><input class=\"sk-toggleable__control sk-hidden--visually\" id=\"sk-estimator-id-3\" type=\"checkbox\" checked><label for=\"sk-estimator-id-3\" class=\"sk-toggleable__label sk-toggleable__label-arrow\">DecisionTreeClassifier</label><div class=\"sk-toggleable__content\"><pre>DecisionTreeClassifier(criterion=&#x27;entropy&#x27;, min_samples_split=10,\n",
       "                       random_state=42)</pre></div></div></div></div></div>"
      ],
      "text/plain": [
       "DecisionTreeClassifier(criterion='entropy', min_samples_split=10,\n",
       "                       random_state=42)"
      ]
     },
     "execution_count": 41,
     "metadata": {},
     "output_type": "execute_result"
    }
   ],
   "source": [
    "# Train the decision tree model with different hyperparameters\n",
    "# Decision tree with default parameters\n",
    "tree1 = DecisionTreeClassifier(random_state=42)\n",
    "tree1.fit(X_train, y_train)\n",
    "\n",
    "# Decision tree with increased maximum depth\n",
    "tree2 = DecisionTreeClassifier(max_depth=15, random_state=42)\n",
    "tree2.fit(X_train, y_train)\n",
    "\n",
    "# Decision tree with entropy as the attribute selection method and increased minimum samples split\n",
    "tree3 = DecisionTreeClassifier(criterion='entropy', min_samples_split=10, random_state=42)\n",
    "tree3.fit(X_train, y_train)"
   ]
  },
  {
   "cell_type": "markdown",
   "id": "375f3e53",
   "metadata": {
    "papermill": {
     "duration": 0.007089,
     "end_time": "2023-06-18T21:42:55.707472",
     "exception": false,
     "start_time": "2023-06-18T21:42:55.700383",
     "status": "completed"
    },
    "tags": []
   },
   "source": [
    "**EVALUATING MODEL PERFORMANCE**"
   ]
  },
  {
   "cell_type": "code",
   "execution_count": 42,
   "id": "3644b590",
   "metadata": {
    "execution": {
     "iopub.execute_input": "2023-06-18T21:42:55.723813Z",
     "iopub.status.busy": "2023-06-18T21:42:55.723413Z",
     "iopub.status.idle": "2023-06-18T21:42:55.741021Z",
     "shell.execute_reply": "2023-06-18T21:42:55.739920Z"
    },
    "papermill": {
     "duration": 0.028452,
     "end_time": "2023-06-18T21:42:55.743201",
     "exception": false,
     "start_time": "2023-06-18T21:42:55.714749",
     "status": "completed"
    },
    "tags": []
   },
   "outputs": [
    {
     "name": "stdout",
     "output_type": "stream",
     "text": [
      "Accuracy (Default Parameters): 0.8426573426573427\n",
      "Accuracy (Increased Max Depth): 0.8426573426573427\n",
      "Accuracy (Entropy Attribute Selection): 0.8496503496503497\n"
     ]
    }
   ],
   "source": [
    "# Evaluate the performance of the trained models using the validation set\n",
    "y_pred1 = tree1.predict(X_val)\n",
    "accuracy1 = accuracy_score(y_val, y_pred1)\n",
    "print(\"Accuracy (Default Parameters):\", accuracy1)\n",
    "\n",
    "y_pred2 = tree2.predict(X_val)\n",
    "accuracy2 = accuracy_score(y_val, y_pred2)\n",
    "print(\"Accuracy (Increased Max Depth):\", accuracy2)\n",
    "\n",
    "y_pred3 = tree3.predict(X_val)\n",
    "accuracy3 = accuracy_score(y_val, y_pred3)\n",
    "print(\"Accuracy (Entropy Attribute Selection):\", accuracy3)"
   ]
  },
  {
   "cell_type": "markdown",
   "id": "4888d4cb",
   "metadata": {
    "papermill": {
     "duration": 0.007444,
     "end_time": "2023-06-18T21:42:55.758473",
     "exception": false,
     "start_time": "2023-06-18T21:42:55.751029",
     "status": "completed"
    },
    "tags": []
   },
   "source": [
    "**FINDING THE MODEL WITH MAXIMUM ACCURACY**"
   ]
  },
  {
   "cell_type": "code",
   "execution_count": 43,
   "id": "529283ad",
   "metadata": {
    "execution": {
     "iopub.execute_input": "2023-06-18T21:42:55.775241Z",
     "iopub.status.busy": "2023-06-18T21:42:55.774812Z",
     "iopub.status.idle": "2023-06-18T21:42:55.781033Z",
     "shell.execute_reply": "2023-06-18T21:42:55.780208Z"
    },
    "papermill": {
     "duration": 0.017207,
     "end_time": "2023-06-18T21:42:55.783171",
     "exception": false,
     "start_time": "2023-06-18T21:42:55.765964",
     "status": "completed"
    },
    "tags": []
   },
   "outputs": [
    {
     "name": "stdout",
     "output_type": "stream",
     "text": [
      "Best Model Accuracy: 0.8496503496503497\n"
     ]
    }
   ],
   "source": [
    "# Find the maximum accuracy\n",
    "max_accuracy = max(accuracy1, accuracy2, accuracy3)\n",
    "best_model = None\n",
    "\n",
    "if max_accuracy == accuracy1:\n",
    "    best_model = tree1\n",
    "elif max_accuracy == accuracy2:\n",
    "    best_model = tree2\n",
    "else:\n",
    "    best_model = tree3\n",
    "\n",
    "print(\"Best Model Accuracy:\", max_accuracy)"
   ]
  },
  {
   "cell_type": "markdown",
   "id": "3e384b6c",
   "metadata": {
    "papermill": {
     "duration": 0.007369,
     "end_time": "2023-06-18T21:42:55.798195",
     "exception": false,
     "start_time": "2023-06-18T21:42:55.790826",
     "status": "completed"
    },
    "tags": []
   },
   "source": [
    "**PREDICTIONS**"
   ]
  },
  {
   "cell_type": "code",
   "execution_count": 44,
   "id": "73d4ea20",
   "metadata": {
    "execution": {
     "iopub.execute_input": "2023-06-18T21:42:55.815519Z",
     "iopub.status.busy": "2023-06-18T21:42:55.814492Z",
     "iopub.status.idle": "2023-06-18T21:42:55.822292Z",
     "shell.execute_reply": "2023-06-18T21:42:55.821218Z"
    },
    "papermill": {
     "duration": 0.018838,
     "end_time": "2023-06-18T21:42:55.824502",
     "exception": false,
     "start_time": "2023-06-18T21:42:55.805664",
     "status": "completed"
    },
    "tags": []
   },
   "outputs": [],
   "source": [
    "# Select the model with the best performance and use it to make predictions on the test set\n",
    "test_predictions = best_model.predict(X_test)"
   ]
  },
  {
   "cell_type": "markdown",
   "id": "279933ea",
   "metadata": {
    "papermill": {
     "duration": 0.007248,
     "end_time": "2023-06-18T21:42:55.839353",
     "exception": false,
     "start_time": "2023-06-18T21:42:55.832105",
     "status": "completed"
    },
    "tags": []
   },
   "source": [
    "**OUTPUT**"
   ]
  },
  {
   "cell_type": "code",
   "execution_count": 45,
   "id": "1587a579",
   "metadata": {
    "execution": {
     "iopub.execute_input": "2023-06-18T21:42:55.856303Z",
     "iopub.status.busy": "2023-06-18T21:42:55.855845Z",
     "iopub.status.idle": "2023-06-18T21:42:55.867923Z",
     "shell.execute_reply": "2023-06-18T21:42:55.867020Z"
    },
    "papermill": {
     "duration": 0.023514,
     "end_time": "2023-06-18T21:42:55.870368",
     "exception": false,
     "start_time": "2023-06-18T21:42:55.846854",
     "status": "completed"
    },
    "tags": []
   },
   "outputs": [],
   "source": [
    "# Save predictions to an output file with ID and Category\n",
    "predictions = pd.DataFrame({'ID': test_data['ID'], 'Category': test_predictions})\n",
    "predictions.to_csv('output.csv', index=False)"
   ]
  },
  {
   "cell_type": "markdown",
   "id": "d3471312",
   "metadata": {
    "papermill": {
     "duration": 0.007404,
     "end_time": "2023-06-18T21:42:55.885580",
     "exception": false,
     "start_time": "2023-06-18T21:42:55.878176",
     "status": "completed"
    },
    "tags": []
   },
   "source": [
    "**CHECK WHETHER SUBMISSION HAS 367 ROWS**"
   ]
  },
  {
   "cell_type": "code",
   "execution_count": 46,
   "id": "79fe53ce",
   "metadata": {
    "execution": {
     "iopub.execute_input": "2023-06-18T21:42:55.902537Z",
     "iopub.status.busy": "2023-06-18T21:42:55.902123Z",
     "iopub.status.idle": "2023-06-18T21:42:55.907813Z",
     "shell.execute_reply": "2023-06-18T21:42:55.906760Z"
    },
    "papermill": {
     "duration": 0.017382,
     "end_time": "2023-06-18T21:42:55.910550",
     "exception": false,
     "start_time": "2023-06-18T21:42:55.893168",
     "status": "completed"
    },
    "tags": []
   },
   "outputs": [
    {
     "name": "stdout",
     "output_type": "stream",
     "text": [
      "Submission file created successfully.\n"
     ]
    }
   ],
   "source": [
    "if predictions.shape[0] == 367:\n",
    "    print(\"Submission file created successfully.\")\n",
    "else:\n",
    "    print(\"Error: Submission must have 367 rows.\")"
   ]
  }
 ],
 "metadata": {
  "kernelspec": {
   "display_name": "Python 3",
   "language": "python",
   "name": "python3"
  },
  "language_info": {
   "codemirror_mode": {
    "name": "ipython",
    "version": 3
   },
   "file_extension": ".py",
   "mimetype": "text/x-python",
   "name": "python",
   "nbconvert_exporter": "python",
   "pygments_lexer": "ipython3",
   "version": "3.10.8"
  },
  "papermill": {
   "default_parameters": {},
   "duration": 15.386902,
   "end_time": "2023-06-18T21:42:56.940156",
   "environment_variables": {},
   "exception": null,
   "input_path": "__notebook__.ipynb",
   "output_path": "__notebook__.ipynb",
   "parameters": {},
   "start_time": "2023-06-18T21:42:41.553254",
   "version": "2.4.0"
  }
 },
 "nbformat": 4,
 "nbformat_minor": 5
}
